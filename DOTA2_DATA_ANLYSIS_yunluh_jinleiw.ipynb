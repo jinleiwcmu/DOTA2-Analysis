{
 "cells": [
  {
   "cell_type": "markdown",
   "metadata": {},
   "source": [
    "# 15688 Final Project"
   ]
  },
  {
   "cell_type": "markdown",
   "metadata": {},
   "source": [
    "## Table of Contents\n",
    "* [1. Data Collection](#scrape)\n",
    "* &emsp;&emsp;&emsp;[1-1. API Introduction](#scrape-1)\n",
    "* &emsp;&emsp;&emsp;[1-2. Data Scraping](#scrape-2)\n",
    "* [2. Data Cleaning](#cleaning)\n",
    "* &emsp;&emsp;&emsp;[2-1. Read the data for question 1](#cleaning-1)\n",
    "* &emsp;&emsp;&emsp;[2-2. Read the data for question 2](#cleaning-2)\n",
    "* [3. Discriptive Analysis](#discriptive)\n",
    "* [4. Winning Probability Prediction](#prediction)\n",
    "* &emsp;&emsp;&emsp;[4-1. Hero Selection Influence](#prediction-1)\n",
    "* &emsp;&emsp;&emsp;[4-2. Real-time Precition](#prediction-2)\n",
    "* [5. Conclusion](#conclusion)\n",
    "* [REFENRECES](#ref)"
   ]
  },
  {
   "cell_type": "code",
   "execution_count": 39,
   "metadata": {
    "collapsed": true
   },
   "outputs": [],
   "source": [
    "import json\n",
    "import glob\n",
    "import requests\n",
    "import operator\n",
    "import pandas as pd\n",
    "import numpy as np\n",
    "import matplotlib.pyplot as plt\n",
    "from collections import Counter\n",
    "from IPython.display import Markdown, display\n",
    "from sklearn.linear_model import LogisticRegression\n",
    "from sklearn.model_selection import train_test_split\n",
    "from sklearn.metrics import roc_curve\n",
    "from sklearn.pipeline import make_pipeline\n",
    "from sklearn.model_selection import GridSearchCV\n",
    "from sklearn.ensemble import RandomForestClassifier \n",
    "from sklearn.naive_bayes import GaussianNB\n",
    "from sklearn.ensemble import GradientBoostingClassifier"
   ]
  },
  {
   "cell_type": "markdown",
   "metadata": {},
   "source": [
    "<a name=\"scrape\"></a>\n",
    "## 1. Data Collection"
   ]
  },
  {
   "attachments": {},
   "cell_type": "markdown",
   "metadata": {},
   "source": [
    "*** Dota2 *** is a super popular Multiplayer online battle arena (moba) game on Steam."
   ]
  },
  {
   "cell_type": "markdown",
   "metadata": {},
   "source": [
    "![](http://esportsjunkie.com/wp-content/uploads/2016/12/Dota2-Logo.jpg?raw=true)"
   ]
  },
  {
   "cell_type": "markdown",
   "metadata": {},
   "source": [
    "In this game, ten players are divided into two teams and each player will choose one **hero** to fight for him. \n",
    "\n",
    "During the match, the heroes fight and gain **experience** and **golds** to be stronger and get better equipment.\n",
    "\n",
    "Finally ,the team who destroy the **ancient** of enemy will win the victory. \n",
    "\n",
    "Each year, thousands of professional teams are competing for high rewards in different tourments. When we are watching the game, we often want to ask these two questions:\n",
    "\n",
    "1. Which team's hero selection is better?\n",
    "\n",
    "2. Which team has a better chance to win in the middle of the game?\n",
    "\n",
    "To answer these two questions, we collected data from more than **49,000** professional matches with **opendota API**, and we hope to get some clues from it."
   ]
  },
  {
   "cell_type": "markdown",
   "metadata": {},
   "source": [
    "<a name=\"scrape-1\"></a>\n",
    "### 1-1. API Introduction"
   ]
  },
  {
   "cell_type": "markdown",
   "metadata": {},
   "source": [
    "In *** opendota API***, we can use sql query to get the data we want. \n",
    "\n",
    "Here is the schema for **matches** and **player_matches** that we use in this project."
   ]
  },
  {
   "cell_type": "markdown",
   "metadata": {
    "collapsed": true
   },
   "source": [
    "```sql\n",
    "--overall information for one match\n",
    "CREATE TABLE IF NOT EXISTS matches (\n",
    "  match_id bigint PRIMARY KEY,\n",
    "  match_seq_num bigint,\n",
    "  radiant_win boolean,\n",
    "  start_time integer,\n",
    "  duration integer,\n",
    "  tower_status_radiant integer,\n",
    "  tower_status_dire integer,\n",
    "  first_blood_time integer,\n",
    "  human_players integer,\n",
    "  leagueid integer,\n",
    "  game_mode integer,\n",
    "  engine integer,\n",
    "  radiant_score integer,\n",
    "  dire_score integer,\n",
    "  picks_bans json[],\n",
    "  radiant_gold_adv integer[],\n",
    "  radiant_xp_adv integer[],\n",
    "  ...\n",
    ");\n",
    "```"
   ]
  },
  {
   "cell_type": "markdown",
   "metadata": {},
   "source": [
    "```sql\n",
    "--performance of one player in one match\n",
    "CREATE TABLE IF NOT EXISTS player_matches (\n",
    "  PRIMARY KEY(match_id, player_slot),\n",
    "  match_id bigint REFERENCES matches(match_id) ON DELETE CASCADE,\n",
    "  account_id bigint,\n",
    "  player_slot integer,\n",
    "  hero_id integer,\n",
    "  item_0 integer,\n",
    "  item_1 integer,\n",
    "  item_2 integer,\n",
    "  item_3 integer,\n",
    "  item_4 integer,\n",
    "  item_5 integer,\n",
    "  backpack_0 integer,\n",
    "  backpack_1 integer,\n",
    "  backpack_2 integer,\n",
    "  kills integer,\n",
    "  deaths integer,\n",
    "  assists integer,\n",
    "  leaver_status integer,\n",
    "  gold integer,\n",
    "  last_hits integer,\n",
    "  gold_per_min integer,\n",
    "  xp_per_min integer,\n",
    "  gold_spent integer,\n",
    "  hero_damage integer,\n",
    "  tower_damage bigint,\n",
    "  hero_healing bigint,\n",
    "  level integer,\n",
    "  gold_t integer[],\n",
    "  lh_t integer[],\n",
    "  dn_t integer[],\n",
    "  xp_t integer[],\n",
    "  obs_log json[],\n",
    "  sen_log json[],\n",
    "  obs_left_log json[],\n",
    "  sen_left_log json[],\n",
    "  purchase_log json[],\n",
    "  kills_log json[],\n",
    "  buyback_log json[],\n",
    "  lane_pos json,\n",
    "  obs json,\n",
    "  sen json,\n",
    "  actions json,\n",
    "  pings json,\n",
    "  purchase json,\n",
    "  killed json,\n",
    "  killed_by json,\n",
    "  ...\n",
    ");\n",
    "```"
   ]
  },
  {
   "cell_type": "markdown",
   "metadata": {},
   "source": [
    "<a name=\"scrape-2\"></a>\n",
    "### 1-2. Data Scraping"
   ]
  },
  {
   "cell_type": "markdown",
   "metadata": {},
   "source": [
    "Below is the code we use to get data of all the professional matches after **2014**."
   ]
  },
  {
   "cell_type": "code",
   "execution_count": 40,
   "metadata": {
    "collapsed": true
   },
   "outputs": [],
   "source": [
    "def get_data_from_query(query):\n",
    "    params = {\"sql\": query}\n",
    "    explorer_url = 'https://api.opendota.com/api/explorer'\n",
    "    dac_response = requests.get(explorer_url, params = params)\n",
    "    return dac_response.json()['rows']"
   ]
  },
  {
   "cell_type": "code",
   "execution_count": 4,
   "metadata": {
    "collapsed": true
   },
   "outputs": [],
   "source": [
    "query1 = 'SELECT * FROM MATCHES WHERE start_time > 1388552400' # after 2014\n",
    "query2 = 'SELECT * FROM PLAYER_MATCHES WHERE match_id > 3038294356' # after 2014"
   ]
  },
  {
   "cell_type": "code",
   "execution_count": 5,
   "metadata": {
    "collapsed": true
   },
   "outputs": [],
   "source": [
    "# data1 = get_data_from_query(query1)\n",
    "# data2 = get_data_from_query(query2)"
   ]
  },
  {
   "cell_type": "markdown",
   "metadata": {},
   "source": [
    "<a name=\"cleaning\"></a>\n",
    "## 2. Data Cleaning\n",
    "As the data from the two APIs is in JSON format, the data we scraped is actually in a very good format. What we mainly did in the data preprocessing part were \n",
    "\n",
    "> * 1) transformed the data into a dataframe format\n",
    "> * 2) picked the features we want\n",
    "> * 3) dropped the missing values (as there were only a few missing values in the data)\n",
    "> * 4) did one-hot encoding or normalization. \n",
    "\n",
    "Our detailed processes will be discussed in the following."
   ]
  },
  {
   "cell_type": "markdown",
   "metadata": {},
   "source": [
    "<a name=\"cleaning-1\"></a>\n",
    "### Read the data for Question 1\n",
    "For the first question, we extracted the information of hero selection (in field ** picks_bans **) and final result (in filed **radiant_win**) from the raw data we collected, and did one-hot encoding for the hero seletion data."
   ]
  },
  {
   "cell_type": "code",
   "execution_count": 37,
   "metadata": {
    "collapsed": true
   },
   "outputs": [],
   "source": [
    "def read_file_into_dict_of_list(filename):\n",
    "    with open(filename) as f:\n",
    "        o = []\n",
    "        for line in f:\n",
    "            d = json.loads(line)\n",
    "            o.append(d)\n",
    "        f.close()\n",
    "        return o"
   ]
  },
  {
   "cell_type": "code",
   "execution_count": 38,
   "metadata": {
    "collapsed": true
   },
   "outputs": [],
   "source": [
    "# read the file for sovling the first question\n",
    "filename = 'data_sum.txt' # data1\n",
    "data1 = pd.DataFrame(read_file_into_dict_of_list(filename))"
   ]
  },
  {
   "cell_type": "code",
   "execution_count": 7,
   "metadata": {},
   "outputs": [
    {
     "data": {
      "text/html": [
       "<div>\n",
       "<style>\n",
       "    .dataframe thead tr:only-child th {\n",
       "        text-align: right;\n",
       "    }\n",
       "\n",
       "    .dataframe thead th {\n",
       "        text-align: left;\n",
       "    }\n",
       "\n",
       "    .dataframe tbody tr th {\n",
       "        vertical-align: top;\n",
       "    }\n",
       "</style>\n",
       "<table border=\"1\" class=\"dataframe\">\n",
       "  <thead>\n",
       "    <tr style=\"text-align: right;\">\n",
       "      <th></th>\n",
       "      <th>barracks_status_dire</th>\n",
       "      <th>barracks_status_radiant</th>\n",
       "      <th>chat</th>\n",
       "      <th>cluster</th>\n",
       "      <th>cosmetics</th>\n",
       "      <th>dire_captain</th>\n",
       "      <th>dire_score</th>\n",
       "      <th>dire_team_complete</th>\n",
       "      <th>dire_team_id</th>\n",
       "      <th>dire_team_name</th>\n",
       "      <th>...</th>\n",
       "      <th>radiant_team_complete</th>\n",
       "      <th>radiant_team_id</th>\n",
       "      <th>radiant_team_name</th>\n",
       "      <th>radiant_win</th>\n",
       "      <th>radiant_xp_adv</th>\n",
       "      <th>start_time</th>\n",
       "      <th>teamfights</th>\n",
       "      <th>tower_status_dire</th>\n",
       "      <th>tower_status_radiant</th>\n",
       "      <th>version</th>\n",
       "    </tr>\n",
       "  </thead>\n",
       "  <tbody>\n",
       "    <tr>\n",
       "      <th>0</th>\n",
       "      <td>63</td>\n",
       "      <td>3</td>\n",
       "      <td>None</td>\n",
       "      <td>223</td>\n",
       "      <td>None</td>\n",
       "      <td>NaN</td>\n",
       "      <td>0</td>\n",
       "      <td>1.0</td>\n",
       "      <td>7.0</td>\n",
       "      <td>None</td>\n",
       "      <td>...</td>\n",
       "      <td>1.0</td>\n",
       "      <td>5.0</td>\n",
       "      <td>None</td>\n",
       "      <td>False</td>\n",
       "      <td>None</td>\n",
       "      <td>1388564360</td>\n",
       "      <td>None</td>\n",
       "      <td>2047</td>\n",
       "      <td>1540</td>\n",
       "      <td>NaN</td>\n",
       "    </tr>\n",
       "    <tr>\n",
       "      <th>1</th>\n",
       "      <td>59</td>\n",
       "      <td>63</td>\n",
       "      <td>[{'time': 1734, 'type': 'chat', 'unit': 'iG.YY...</td>\n",
       "      <td>222</td>\n",
       "      <td>{}</td>\n",
       "      <td>NaN</td>\n",
       "      <td>0</td>\n",
       "      <td>1.0</td>\n",
       "      <td>5.0</td>\n",
       "      <td>None</td>\n",
       "      <td>...</td>\n",
       "      <td>1.0</td>\n",
       "      <td>7.0</td>\n",
       "      <td>None</td>\n",
       "      <td>True</td>\n",
       "      <td>[]</td>\n",
       "      <td>1388568272</td>\n",
       "      <td>[]</td>\n",
       "      <td>1796</td>\n",
       "      <td>2046</td>\n",
       "      <td>20.0</td>\n",
       "    </tr>\n",
       "    <tr>\n",
       "      <th>2</th>\n",
       "      <td>63</td>\n",
       "      <td>48</td>\n",
       "      <td>None</td>\n",
       "      <td>223</td>\n",
       "      <td>None</td>\n",
       "      <td>NaN</td>\n",
       "      <td>0</td>\n",
       "      <td>1.0</td>\n",
       "      <td>7.0</td>\n",
       "      <td>None</td>\n",
       "      <td>...</td>\n",
       "      <td>1.0</td>\n",
       "      <td>5.0</td>\n",
       "      <td>None</td>\n",
       "      <td>False</td>\n",
       "      <td>None</td>\n",
       "      <td>1388571290</td>\n",
       "      <td>None</td>\n",
       "      <td>1959</td>\n",
       "      <td>1792</td>\n",
       "      <td>NaN</td>\n",
       "    </tr>\n",
       "    <tr>\n",
       "      <th>3</th>\n",
       "      <td>63</td>\n",
       "      <td>63</td>\n",
       "      <td>[{'time': 2443, 'type': 'chat', 'unit': 'iG.Fa...</td>\n",
       "      <td>223</td>\n",
       "      <td>{}</td>\n",
       "      <td>NaN</td>\n",
       "      <td>0</td>\n",
       "      <td>1.0</td>\n",
       "      <td>5.0</td>\n",
       "      <td>None</td>\n",
       "      <td>...</td>\n",
       "      <td>1.0</td>\n",
       "      <td>7.0</td>\n",
       "      <td>None</td>\n",
       "      <td>True</td>\n",
       "      <td>[]</td>\n",
       "      <td>1388579278</td>\n",
       "      <td>[]</td>\n",
       "      <td>1828</td>\n",
       "      <td>2047</td>\n",
       "      <td>20.0</td>\n",
       "    </tr>\n",
       "    <tr>\n",
       "      <th>4</th>\n",
       "      <td>51</td>\n",
       "      <td>63</td>\n",
       "      <td>None</td>\n",
       "      <td>231</td>\n",
       "      <td>None</td>\n",
       "      <td>NaN</td>\n",
       "      <td>0</td>\n",
       "      <td>1.0</td>\n",
       "      <td>999689.0</td>\n",
       "      <td>None</td>\n",
       "      <td>...</td>\n",
       "      <td>1.0</td>\n",
       "      <td>7.0</td>\n",
       "      <td>None</td>\n",
       "      <td>True</td>\n",
       "      <td>None</td>\n",
       "      <td>1388739010</td>\n",
       "      <td>None</td>\n",
       "      <td>1796</td>\n",
       "      <td>2046</td>\n",
       "      <td>NaN</td>\n",
       "    </tr>\n",
       "  </tbody>\n",
       "</table>\n",
       "<p>5 rows × 37 columns</p>\n",
       "</div>"
      ],
      "text/plain": [
       "   barracks_status_dire  barracks_status_radiant  \\\n",
       "0                    63                        3   \n",
       "1                    59                       63   \n",
       "2                    63                       48   \n",
       "3                    63                       63   \n",
       "4                    51                       63   \n",
       "\n",
       "                                                chat  cluster cosmetics  \\\n",
       "0                                               None      223      None   \n",
       "1  [{'time': 1734, 'type': 'chat', 'unit': 'iG.YY...      222        {}   \n",
       "2                                               None      223      None   \n",
       "3  [{'time': 2443, 'type': 'chat', 'unit': 'iG.Fa...      223        {}   \n",
       "4                                               None      231      None   \n",
       "\n",
       "   dire_captain  dire_score  dire_team_complete  dire_team_id dire_team_name  \\\n",
       "0           NaN           0                 1.0           7.0           None   \n",
       "1           NaN           0                 1.0           5.0           None   \n",
       "2           NaN           0                 1.0           7.0           None   \n",
       "3           NaN           0                 1.0           5.0           None   \n",
       "4           NaN           0                 1.0      999689.0           None   \n",
       "\n",
       "    ...    radiant_team_complete  radiant_team_id  radiant_team_name  \\\n",
       "0   ...                      1.0              5.0               None   \n",
       "1   ...                      1.0              7.0               None   \n",
       "2   ...                      1.0              5.0               None   \n",
       "3   ...                      1.0              7.0               None   \n",
       "4   ...                      1.0              7.0               None   \n",
       "\n",
       "   radiant_win  radiant_xp_adv  start_time  teamfights  tower_status_dire  \\\n",
       "0        False            None  1388564360        None               2047   \n",
       "1         True              []  1388568272          []               1796   \n",
       "2        False            None  1388571290        None               1959   \n",
       "3         True              []  1388579278          []               1828   \n",
       "4         True            None  1388739010        None               1796   \n",
       "\n",
       "   tower_status_radiant  version  \n",
       "0                  1540      NaN  \n",
       "1                  2046     20.0  \n",
       "2                  1792      NaN  \n",
       "3                  2047     20.0  \n",
       "4                  2046      NaN  \n",
       "\n",
       "[5 rows x 37 columns]"
      ]
     },
     "execution_count": 7,
     "metadata": {},
     "output_type": "execute_result"
    }
   ],
   "source": [
    "data1.head()"
   ]
  },
  {
   "cell_type": "markdown",
   "metadata": {},
   "source": [
    "#### Select the needed features & Drop missing values"
   ]
  },
  {
   "cell_type": "code",
   "execution_count": 41,
   "metadata": {
    "collapsed": true
   },
   "outputs": [],
   "source": [
    "hero_matches_data = data1[['picks_bans', 'radiant_win']]\n",
    "\n",
    "# drop the missing values\n",
    "hero_matches_data = hero_matches_data.dropna(axis=0, how='any').reset_index().drop('index', axis = 1)\n",
    "\n",
    "# extract the initial battle formation data from data1\n",
    "team0_hero = []\n",
    "team1_hero = []\n",
    "for i in range(len(hero_matches_data)):\n",
    "    team0_list = []\n",
    "    team1_list = []\n",
    "    bans = hero_matches_data.iloc[i]['picks_bans']\n",
    "    for ban in bans:\n",
    "        if ban['is_pick']:\n",
    "            if ban['team'] == 0:\n",
    "                team0_list.append(ban['hero_id'])\n",
    "            else:\n",
    "                team1_list.append(ban['hero_id'])\n",
    "    team0_hero.append(team0_list)\n",
    "    team1_hero.append(team1_list)\n",
    "\n",
    "# assign the new columns to the dataset\n",
    "hero_matches_data = hero_matches_data.assign(team0 = team0_hero, team1 = team1_hero)\n",
    "hero_matches_data['radiant_win'] = hero_matches_data['radiant_win'].apply(lambda x: 1 if x is True else 0)\n",
    "hero_matches_data.drop('picks_bans', axis = 1, inplace = True)"
   ]
  },
  {
   "cell_type": "code",
   "execution_count": 42,
   "metadata": {},
   "outputs": [
    {
     "data": {
      "text/html": [
       "<div>\n",
       "<style>\n",
       "    .dataframe thead tr:only-child th {\n",
       "        text-align: right;\n",
       "    }\n",
       "\n",
       "    .dataframe thead th {\n",
       "        text-align: left;\n",
       "    }\n",
       "\n",
       "    .dataframe tbody tr th {\n",
       "        vertical-align: top;\n",
       "    }\n",
       "</style>\n",
       "<table border=\"1\" class=\"dataframe\">\n",
       "  <thead>\n",
       "    <tr style=\"text-align: right;\">\n",
       "      <th></th>\n",
       "      <th>radiant_win</th>\n",
       "      <th>team0</th>\n",
       "      <th>team1</th>\n",
       "    </tr>\n",
       "  </thead>\n",
       "  <tbody>\n",
       "    <tr>\n",
       "      <th>0</th>\n",
       "      <td>0</td>\n",
       "      <td>[92, 86, 103, 67, 97]</td>\n",
       "      <td>[53, 49, 79, 56, 23]</td>\n",
       "    </tr>\n",
       "    <tr>\n",
       "      <th>1</th>\n",
       "      <td>1</td>\n",
       "      <td>[40, 58, 49, 99, 45]</td>\n",
       "      <td>[92, 51, 69, 87, 63]</td>\n",
       "    </tr>\n",
       "    <tr>\n",
       "      <th>2</th>\n",
       "      <td>0</td>\n",
       "      <td>[49, 98, 58, 20, 45]</td>\n",
       "      <td>[53, 76, 79, 16, 47]</td>\n",
       "    </tr>\n",
       "    <tr>\n",
       "      <th>3</th>\n",
       "      <td>1</td>\n",
       "      <td>[40, 58, 91, 19, 16]</td>\n",
       "      <td>[49, 51, 79, 9, 31]</td>\n",
       "    </tr>\n",
       "    <tr>\n",
       "      <th>4</th>\n",
       "      <td>1</td>\n",
       "      <td>[92, 99, 17, 54, 40]</td>\n",
       "      <td>[51, 5, 48, 13, 87]</td>\n",
       "    </tr>\n",
       "  </tbody>\n",
       "</table>\n",
       "</div>"
      ],
      "text/plain": [
       "   radiant_win                  team0                 team1\n",
       "0            0  [92, 86, 103, 67, 97]  [53, 49, 79, 56, 23]\n",
       "1            1   [40, 58, 49, 99, 45]  [92, 51, 69, 87, 63]\n",
       "2            0   [49, 98, 58, 20, 45]  [53, 76, 79, 16, 47]\n",
       "3            1   [40, 58, 91, 19, 16]   [49, 51, 79, 9, 31]\n",
       "4            1   [92, 99, 17, 54, 40]   [51, 5, 48, 13, 87]"
      ]
     },
     "execution_count": 42,
     "metadata": {},
     "output_type": "execute_result"
    }
   ],
   "source": [
    "hero_matches_data.head()"
   ]
  },
  {
   "cell_type": "markdown",
   "metadata": {},
   "source": [
    "#### One-hot encoding"
   ]
  },
  {
   "cell_type": "code",
   "execution_count": 43,
   "metadata": {
    "collapsed": true
   },
   "outputs": [],
   "source": [
    "clean_data1 = hero_matches_data.copy()\n",
    "\n",
    "# change the multiple-value columns into one-hot encoding\n",
    "# the prefix is the name of each column\n",
    "for col in ['team1','team0']:\n",
    "    onehotdf = pd.get_dummies(\n",
    "            pd.DataFrame(list(clean_data1[col])).stack(),\n",
    "            prefix = col\n",
    "        ).astype(int).sum(level = 0)\n",
    "    \n",
    "    clean_data1 = clean_data1.drop(col, axis = 1).join(onehotdf)"
   ]
  },
  {
   "cell_type": "code",
   "execution_count": 44,
   "metadata": {},
   "outputs": [
    {
     "data": {
      "text/html": [
       "<div>\n",
       "<style>\n",
       "    .dataframe thead tr:only-child th {\n",
       "        text-align: right;\n",
       "    }\n",
       "\n",
       "    .dataframe thead th {\n",
       "        text-align: left;\n",
       "    }\n",
       "\n",
       "    .dataframe tbody tr th {\n",
       "        vertical-align: top;\n",
       "    }\n",
       "</style>\n",
       "<table border=\"1\" class=\"dataframe\">\n",
       "  <thead>\n",
       "    <tr style=\"text-align: right;\">\n",
       "      <th></th>\n",
       "      <th>radiant_win</th>\n",
       "      <th>team1_1</th>\n",
       "      <th>team1_2</th>\n",
       "      <th>team1_3</th>\n",
       "      <th>team1_4</th>\n",
       "      <th>team1_5</th>\n",
       "      <th>team1_6</th>\n",
       "      <th>team1_7</th>\n",
       "      <th>team1_8</th>\n",
       "      <th>team1_9</th>\n",
       "      <th>...</th>\n",
       "      <th>team0_107</th>\n",
       "      <th>team0_108</th>\n",
       "      <th>team0_109</th>\n",
       "      <th>team0_110</th>\n",
       "      <th>team0_111</th>\n",
       "      <th>team0_112</th>\n",
       "      <th>team0_113</th>\n",
       "      <th>team0_114</th>\n",
       "      <th>team0_119</th>\n",
       "      <th>team0_120</th>\n",
       "    </tr>\n",
       "  </thead>\n",
       "  <tbody>\n",
       "    <tr>\n",
       "      <th>0</th>\n",
       "      <td>0</td>\n",
       "      <td>0</td>\n",
       "      <td>0</td>\n",
       "      <td>0</td>\n",
       "      <td>0</td>\n",
       "      <td>0</td>\n",
       "      <td>0</td>\n",
       "      <td>0</td>\n",
       "      <td>0</td>\n",
       "      <td>0</td>\n",
       "      <td>...</td>\n",
       "      <td>0</td>\n",
       "      <td>0</td>\n",
       "      <td>0</td>\n",
       "      <td>0</td>\n",
       "      <td>0</td>\n",
       "      <td>0</td>\n",
       "      <td>0</td>\n",
       "      <td>0</td>\n",
       "      <td>0</td>\n",
       "      <td>0</td>\n",
       "    </tr>\n",
       "    <tr>\n",
       "      <th>1</th>\n",
       "      <td>1</td>\n",
       "      <td>0</td>\n",
       "      <td>0</td>\n",
       "      <td>0</td>\n",
       "      <td>0</td>\n",
       "      <td>0</td>\n",
       "      <td>0</td>\n",
       "      <td>0</td>\n",
       "      <td>0</td>\n",
       "      <td>0</td>\n",
       "      <td>...</td>\n",
       "      <td>0</td>\n",
       "      <td>0</td>\n",
       "      <td>0</td>\n",
       "      <td>0</td>\n",
       "      <td>0</td>\n",
       "      <td>0</td>\n",
       "      <td>0</td>\n",
       "      <td>0</td>\n",
       "      <td>0</td>\n",
       "      <td>0</td>\n",
       "    </tr>\n",
       "    <tr>\n",
       "      <th>2</th>\n",
       "      <td>0</td>\n",
       "      <td>0</td>\n",
       "      <td>0</td>\n",
       "      <td>0</td>\n",
       "      <td>0</td>\n",
       "      <td>0</td>\n",
       "      <td>0</td>\n",
       "      <td>0</td>\n",
       "      <td>0</td>\n",
       "      <td>0</td>\n",
       "      <td>...</td>\n",
       "      <td>0</td>\n",
       "      <td>0</td>\n",
       "      <td>0</td>\n",
       "      <td>0</td>\n",
       "      <td>0</td>\n",
       "      <td>0</td>\n",
       "      <td>0</td>\n",
       "      <td>0</td>\n",
       "      <td>0</td>\n",
       "      <td>0</td>\n",
       "    </tr>\n",
       "    <tr>\n",
       "      <th>3</th>\n",
       "      <td>1</td>\n",
       "      <td>0</td>\n",
       "      <td>0</td>\n",
       "      <td>0</td>\n",
       "      <td>0</td>\n",
       "      <td>0</td>\n",
       "      <td>0</td>\n",
       "      <td>0</td>\n",
       "      <td>0</td>\n",
       "      <td>1</td>\n",
       "      <td>...</td>\n",
       "      <td>0</td>\n",
       "      <td>0</td>\n",
       "      <td>0</td>\n",
       "      <td>0</td>\n",
       "      <td>0</td>\n",
       "      <td>0</td>\n",
       "      <td>0</td>\n",
       "      <td>0</td>\n",
       "      <td>0</td>\n",
       "      <td>0</td>\n",
       "    </tr>\n",
       "    <tr>\n",
       "      <th>4</th>\n",
       "      <td>1</td>\n",
       "      <td>0</td>\n",
       "      <td>0</td>\n",
       "      <td>0</td>\n",
       "      <td>0</td>\n",
       "      <td>1</td>\n",
       "      <td>0</td>\n",
       "      <td>0</td>\n",
       "      <td>0</td>\n",
       "      <td>0</td>\n",
       "      <td>...</td>\n",
       "      <td>0</td>\n",
       "      <td>0</td>\n",
       "      <td>0</td>\n",
       "      <td>0</td>\n",
       "      <td>0</td>\n",
       "      <td>0</td>\n",
       "      <td>0</td>\n",
       "      <td>0</td>\n",
       "      <td>0</td>\n",
       "      <td>0</td>\n",
       "    </tr>\n",
       "  </tbody>\n",
       "</table>\n",
       "<p>5 rows × 231 columns</p>\n",
       "</div>"
      ],
      "text/plain": [
       "   radiant_win  team1_1  team1_2  team1_3  team1_4  team1_5  team1_6  team1_7  \\\n",
       "0            0        0        0        0        0        0        0        0   \n",
       "1            1        0        0        0        0        0        0        0   \n",
       "2            0        0        0        0        0        0        0        0   \n",
       "3            1        0        0        0        0        0        0        0   \n",
       "4            1        0        0        0        0        1        0        0   \n",
       "\n",
       "   team1_8  team1_9    ...      team0_107  team0_108  team0_109  team0_110  \\\n",
       "0        0        0    ...              0          0          0          0   \n",
       "1        0        0    ...              0          0          0          0   \n",
       "2        0        0    ...              0          0          0          0   \n",
       "3        0        1    ...              0          0          0          0   \n",
       "4        0        0    ...              0          0          0          0   \n",
       "\n",
       "   team0_111  team0_112  team0_113  team0_114  team0_119  team0_120  \n",
       "0          0          0          0          0          0          0  \n",
       "1          0          0          0          0          0          0  \n",
       "2          0          0          0          0          0          0  \n",
       "3          0          0          0          0          0          0  \n",
       "4          0          0          0          0          0          0  \n",
       "\n",
       "[5 rows x 231 columns]"
      ]
     },
     "execution_count": 44,
     "metadata": {},
     "output_type": "execute_result"
    }
   ],
   "source": [
    "clean_data1.head()"
   ]
  },
  {
   "cell_type": "markdown",
   "metadata": {},
   "source": [
    "<a name=\"cleaning-1\"></a>\n",
    "### Read the data for Question 2\n",
    "For question 2, we combined **matches** and **player_matches** data, extracted **gold**, **exp**, **level**, **kill** information of each player in every minute as well as **hero_selection** of the entire match (stored in file **data_timeline.txt**), and did one hot-encoding for the **hero_selection**."
   ]
  },
  {
   "cell_type": "code",
   "execution_count": 45,
   "metadata": {
    "collapsed": true
   },
   "outputs": [],
   "source": [
    "def convert_df_to_player_df(df):\n",
    "    team0_column_names = ['hero_id_0','hero_id_1', 'hero_id_2', 'hero_id_3', 'hero_id_4']\n",
    "    team1_column_names = ['hero_id_5','hero_id_6', 'hero_id_7', 'hero_id_8', 'hero_id_9']\n",
    "    team0_df = sum([pd.get_dummies(df[team0_name], prefix = 'team0') for team0_name in team0_column_names])\n",
    "    team1_df = sum([pd.get_dummies(df[team1_name], prefix = 'team1') for team1_name in team1_column_names])\n",
    "    df1 = pd.concat([df,team0_df,team1_df], axis = 1)\n",
    "    return df1.dropna(axis = 1).drop(['hero_id_0','hero_id_1','hero_id_2', 'hero_id_6', \\\n",
    "                                      'hero_id_3','hero_id_4','hero_id_5', 'hero_id_7', \\\n",
    "                                      'hero_id_8','hero_id_9','match_id'], axis = 1)"
   ]
  },
  {
   "cell_type": "code",
   "execution_count": 9,
   "metadata": {
    "collapsed": true
   },
   "outputs": [],
   "source": [
    "# read the file for sovling the second question\n",
    "filename = 'data_timeline.txt'# data2 \n",
    "df = pd.DataFrame(read_file_into_dict_of_list(filename))\n",
    "data2 = convert_df_to_player_df(df)"
   ]
  },
  {
   "cell_type": "code",
   "execution_count": 10,
   "metadata": {},
   "outputs": [
    {
     "data": {
      "text/html": [
       "<div>\n",
       "<style>\n",
       "    .dataframe thead tr:only-child th {\n",
       "        text-align: right;\n",
       "    }\n",
       "\n",
       "    .dataframe thead th {\n",
       "        text-align: left;\n",
       "    }\n",
       "\n",
       "    .dataframe tbody tr th {\n",
       "        vertical-align: top;\n",
       "    }\n",
       "</style>\n",
       "<table border=\"1\" class=\"dataframe\">\n",
       "  <thead>\n",
       "    <tr style=\"text-align: right;\">\n",
       "      <th></th>\n",
       "      <th>gold_t_0</th>\n",
       "      <th>gold_t_1</th>\n",
       "      <th>gold_t_2</th>\n",
       "      <th>gold_t_3</th>\n",
       "      <th>gold_t_4</th>\n",
       "      <th>gold_t_5</th>\n",
       "      <th>gold_t_6</th>\n",
       "      <th>gold_t_7</th>\n",
       "      <th>gold_t_8</th>\n",
       "      <th>gold_t_9</th>\n",
       "      <th>...</th>\n",
       "      <th>team1_90</th>\n",
       "      <th>team1_91</th>\n",
       "      <th>team1_92</th>\n",
       "      <th>team1_93</th>\n",
       "      <th>team1_94</th>\n",
       "      <th>team1_95</th>\n",
       "      <th>team1_96</th>\n",
       "      <th>team1_97</th>\n",
       "      <th>team1_98</th>\n",
       "      <th>team1_99</th>\n",
       "    </tr>\n",
       "  </thead>\n",
       "  <tbody>\n",
       "    <tr>\n",
       "      <th>0</th>\n",
       "      <td>0</td>\n",
       "      <td>0</td>\n",
       "      <td>0</td>\n",
       "      <td>0</td>\n",
       "      <td>0</td>\n",
       "      <td>0</td>\n",
       "      <td>0</td>\n",
       "      <td>0</td>\n",
       "      <td>0</td>\n",
       "      <td>0</td>\n",
       "      <td>...</td>\n",
       "      <td>1</td>\n",
       "      <td>0</td>\n",
       "      <td>0</td>\n",
       "      <td>0</td>\n",
       "      <td>0</td>\n",
       "      <td>0</td>\n",
       "      <td>0</td>\n",
       "      <td>0</td>\n",
       "      <td>0</td>\n",
       "      <td>0</td>\n",
       "    </tr>\n",
       "    <tr>\n",
       "      <th>1</th>\n",
       "      <td>100</td>\n",
       "      <td>100</td>\n",
       "      <td>139</td>\n",
       "      <td>395</td>\n",
       "      <td>273</td>\n",
       "      <td>100</td>\n",
       "      <td>100</td>\n",
       "      <td>282</td>\n",
       "      <td>283</td>\n",
       "      <td>100</td>\n",
       "      <td>...</td>\n",
       "      <td>1</td>\n",
       "      <td>0</td>\n",
       "      <td>0</td>\n",
       "      <td>0</td>\n",
       "      <td>0</td>\n",
       "      <td>0</td>\n",
       "      <td>0</td>\n",
       "      <td>0</td>\n",
       "      <td>0</td>\n",
       "      <td>0</td>\n",
       "    </tr>\n",
       "    <tr>\n",
       "      <th>2</th>\n",
       "      <td>200</td>\n",
       "      <td>200</td>\n",
       "      <td>239</td>\n",
       "      <td>613</td>\n",
       "      <td>693</td>\n",
       "      <td>225</td>\n",
       "      <td>300</td>\n",
       "      <td>619</td>\n",
       "      <td>539</td>\n",
       "      <td>200</td>\n",
       "      <td>...</td>\n",
       "      <td>1</td>\n",
       "      <td>0</td>\n",
       "      <td>0</td>\n",
       "      <td>0</td>\n",
       "      <td>0</td>\n",
       "      <td>0</td>\n",
       "      <td>0</td>\n",
       "      <td>0</td>\n",
       "      <td>0</td>\n",
       "      <td>0</td>\n",
       "    </tr>\n",
       "    <tr>\n",
       "      <th>3</th>\n",
       "      <td>354</td>\n",
       "      <td>354</td>\n",
       "      <td>659</td>\n",
       "      <td>1042</td>\n",
       "      <td>1073</td>\n",
       "      <td>379</td>\n",
       "      <td>494</td>\n",
       "      <td>989</td>\n",
       "      <td>914</td>\n",
       "      <td>300</td>\n",
       "      <td>...</td>\n",
       "      <td>1</td>\n",
       "      <td>0</td>\n",
       "      <td>0</td>\n",
       "      <td>0</td>\n",
       "      <td>0</td>\n",
       "      <td>0</td>\n",
       "      <td>0</td>\n",
       "      <td>0</td>\n",
       "      <td>0</td>\n",
       "      <td>0</td>\n",
       "    </tr>\n",
       "    <tr>\n",
       "      <th>4</th>\n",
       "      <td>1071</td>\n",
       "      <td>454</td>\n",
       "      <td>1004</td>\n",
       "      <td>1326</td>\n",
       "      <td>1321</td>\n",
       "      <td>479</td>\n",
       "      <td>748</td>\n",
       "      <td>1089</td>\n",
       "      <td>1222</td>\n",
       "      <td>500</td>\n",
       "      <td>...</td>\n",
       "      <td>1</td>\n",
       "      <td>0</td>\n",
       "      <td>0</td>\n",
       "      <td>0</td>\n",
       "      <td>0</td>\n",
       "      <td>0</td>\n",
       "      <td>0</td>\n",
       "      <td>0</td>\n",
       "      <td>0</td>\n",
       "      <td>0</td>\n",
       "    </tr>\n",
       "  </tbody>\n",
       "</table>\n",
       "<p>5 rows × 263 columns</p>\n",
       "</div>"
      ],
      "text/plain": [
       "   gold_t_0  gold_t_1  gold_t_2  gold_t_3  gold_t_4  gold_t_5  gold_t_6  \\\n",
       "0         0         0         0         0         0         0         0   \n",
       "1       100       100       139       395       273       100       100   \n",
       "2       200       200       239       613       693       225       300   \n",
       "3       354       354       659      1042      1073       379       494   \n",
       "4      1071       454      1004      1326      1321       479       748   \n",
       "\n",
       "   gold_t_7  gold_t_8  gold_t_9    ...     team1_90  team1_91  team1_92  \\\n",
       "0         0         0         0    ...            1         0         0   \n",
       "1       282       283       100    ...            1         0         0   \n",
       "2       619       539       200    ...            1         0         0   \n",
       "3       989       914       300    ...            1         0         0   \n",
       "4      1089      1222       500    ...            1         0         0   \n",
       "\n",
       "   team1_93  team1_94  team1_95  team1_96  team1_97  team1_98  team1_99  \n",
       "0         0         0         0         0         0         0         0  \n",
       "1         0         0         0         0         0         0         0  \n",
       "2         0         0         0         0         0         0         0  \n",
       "3         0         0         0         0         0         0         0  \n",
       "4         0         0         0         0         0         0         0  \n",
       "\n",
       "[5 rows x 263 columns]"
      ]
     },
     "execution_count": 10,
     "metadata": {},
     "output_type": "execute_result"
    }
   ],
   "source": [
    "data2.head()"
   ]
  },
  {
   "cell_type": "markdown",
   "metadata": {},
   "source": [
    "<a name=\"discriptive\"></a>\n",
    "## 3. Discriptive Analysis\n",
    "### 1) The winning frequencies for both team\n",
    "From the graph, we could see that actually the winning times for two team are almost the same."
   ]
  },
  {
   "cell_type": "code",
   "execution_count": 47,
   "metadata": {},
   "outputs": [
    {
     "data": {
      "image/png": "[encoded data removed]",
      "text/plain": [
       "<matplotlib.figure.Figure at 0x1144f6198>"
      ]
     },
     "metadata": {},
     "output_type": "display_data"
    }
   ],
   "source": [
    "plt.bar(list(Counter(hero_matches_data['radiant_win']).keys()), list(Counter(hero_matches_data['radiant_win']).values()))\n",
    "plt.xticks(list(Counter(hero_matches_data['radiant_win']).keys()), ('Radiant','Dire'))\n",
    "plt.show()"
   ]
  },
  {
   "cell_type": "markdown",
   "metadata": {},
   "source": [
    "### 2) What's the most & least popular heroes for Radiant team?"
   ]
  },
  {
   "cell_type": "code",
   "execution_count": 48,
   "metadata": {},
   "outputs": [
    {
     "name": "stdout",
     "output_type": "stream",
     "text": [
      "MOST FREQUENT USED HEROS FOR RADIANT\n",
      "[(5238, '86'), (4935, '20'), (4714, '87'), (4667, '7'), (4363, '30'), (4352, '65'), (4314, '74'), (4073, '16'), (4003, '8'), (3904, '50')]\n",
      "\n",
      "LEAST FREQUENT USED HEROS FOR RADIANT\n",
      "[(670, '14'), (659, '114'), (598, '59'), (595, '81'), (531, '108'), (511, '82'), (136, '119'), (89, '113'), (62, '105'), (45, '120')]\n",
      "\n"
     ]
    }
   ],
   "source": [
    "# Radiant\n",
    "for col in ['team0']:\n",
    "    formation_list = []\n",
    "    for formation in hero_matches_data[col]:\n",
    "        formation_list += [str(f) for f in formation]\n",
    "    c0 = Counter(formation_list)\n",
    "    \n",
    "c0 = {k:v for v,k in c0.items()}\n",
    "\n",
    "# the most & least frequent used heros\n",
    "print('MOST FREQUENT USED HEROS FOR RADIANT')\n",
    "print(sorted(c0.items(), reverse = True)[:10])\n",
    "print()\n",
    "print('LEAST FREQUENT USED HEROS FOR RADIANT')\n",
    "print(sorted(c0.items(), reverse = True)[-10:])\n",
    "print()"
   ]
  },
  {
   "cell_type": "markdown",
   "metadata": {},
   "source": [
    "**Most popular hero for radiant**|**Least popular hero for radiant**|\n",
    ":-|:-|\n",
    "**Rubick (id: 86)**|**Pangolier Pangolier (id:120)**\n",
    "<img src=\"https://github.com/yunluhuang516/pictures/raw/master/project/86.jpeg\" style=\"width: 200px;\"/>|<img src=\"https://d1u5p3l4wpay3k.cloudfront.net/dota2_gamepedia/4/4e/Pangolier_icon.png?version=d53e7d6702dd85fef483551207cf40db\" style=\"width: 200px;\"/>"
   ]
  },
  {
   "cell_type": "code",
   "execution_count": 49,
   "metadata": {},
   "outputs": [
    {
     "data": {
      "image/png": "[encoded data removed]",
      "text/plain": [
       "<matplotlib.figure.Figure at 0x20d0f5080>"
      ]
     },
     "metadata": {},
     "output_type": "display_data"
    }
   ],
   "source": [
    "# MOST FREQUENT USED HEROS FOR RADIANT\n",
    "plt.bar(range(0,10), [a[0] for a in sorted(c0.items(), reverse = True)[:10]])\n",
    "plt.xticks(range(0,10), [a[1] for a in sorted(c0.items(), reverse = True)[:10]])\n",
    "plt.show()"
   ]
  },
  {
   "cell_type": "code",
   "execution_count": 50,
   "metadata": {},
   "outputs": [
    {
     "data": {
      "image/png": "[encoded data removed]",
      "text/plain": [
       "<matplotlib.figure.Figure at 0x20d0fc748>"
      ]
     },
     "metadata": {},
     "output_type": "display_data"
    }
   ],
   "source": [
    "# LEAST FREQUENT USED HEROS FOR RADIANT\n",
    "plt.bar(range(0,10), [a[0] for a in sorted(c0.items(), reverse = True)[-10:]])\n",
    "plt.xticks(range(0,10), [a[1] for a in sorted(c0.items(), reverse = True)[-10:]])\n",
    "plt.show()"
   ]
  },
  {
   "cell_type": "markdown",
   "metadata": {},
   "source": [
    "### 3) What's the most & least popular heroes for Dire team"
   ]
  },
  {
   "cell_type": "code",
   "execution_count": 51,
   "metadata": {
    "scrolled": true
   },
   "outputs": [
    {
     "name": "stdout",
     "output_type": "stream",
     "text": [
      "MOST FREQUENT USED HEROS FOR DIRE\n",
      "[(5195, '20'), (5070, '86'), (4635, '87'), (4390, '74'), (4306, '30'), (4273, '65'), (4224, '7'), (3978, '8'), (3926, '16'), (3739, '39')]\n",
      "\n",
      "LEAST FREQUENT USED HEROS FOR DIRE\n",
      "[(662, '114'), (631, '81'), (601, '14'), (579, '59'), (565, '108'), (436, '82'), (131, '119'), (93, '113'), (60, '105'), (35, '120')]\n",
      "\n"
     ]
    }
   ],
   "source": [
    "# Dire\n",
    "for col in ['team1']:\n",
    "    formation_list = []\n",
    "    for formation in hero_matches_data[col]:\n",
    "        formation_list += [str(f) for f in formation]\n",
    "    c1 = Counter(formation_list)\n",
    "    \n",
    "c1 = {k:v for v,k in c1.items()}\n",
    "\n",
    "# the most & least frequent used heros\n",
    "print('MOST FREQUENT USED HEROS FOR DIRE')\n",
    "print(sorted(c1.items(), reverse = True)[:10])\n",
    "print()\n",
    "print('LEAST FREQUENT USED HEROS FOR DIRE')\n",
    "print(sorted(c1.items(), reverse = True)[-10:])\n",
    "print()"
   ]
  },
  {
   "cell_type": "markdown",
   "metadata": {},
   "source": [
    "**Most popular hero for dire**|**Least popular hero for dire**|\n",
    ":-|:-|\n",
    "**Vengefulspirit (id: 86)**|**Pangolier (id:120)**\n",
    "<img src=\"https://github.com/yunluhuang516/pictures/raw/master/project/20.jpeg\" style=\"width: 200px;\"/>|<img src=\"https://d1u5p3l4wpay3k.cloudfront.net/dota2_gamepedia/4/4e/Pangolier_icon.png?version=d53e7d6702dd85fef483551207cf40db\" style=\"width: 200px;\"/>"
   ]
  },
  {
   "cell_type": "code",
   "execution_count": 52,
   "metadata": {},
   "outputs": [
    {
     "data": {
      "image/png": "[encoded data removed]",
      "text/plain": [
       "<matplotlib.figure.Figure at 0x20d26e198>"
      ]
     },
     "metadata": {},
     "output_type": "display_data"
    }
   ],
   "source": [
    "plt.bar(range(0,10), [a[0] for a in sorted(c1.items(), reverse = True)[:10]])\n",
    "plt.xticks(range(0,10), [a[1] for a in sorted(c1.items(), reverse = True)[:10]])\n",
    "plt.show()"
   ]
  },
  {
   "cell_type": "code",
   "execution_count": 53,
   "metadata": {},
   "outputs": [
    {
     "data": {
      "image/png": "[encoded data removed]",
      "text/plain": [
       "<matplotlib.figure.Figure at 0x20d12b4a8>"
      ]
     },
     "metadata": {},
     "output_type": "display_data"
    }
   ],
   "source": [
    "plt.bar(range(0,10), [a[0] for a in sorted(c1.items(), reverse = True)[-10:]])\n",
    "plt.xticks(range(0,10), [a[1] for a in sorted(c1.items(), reverse = True)[-10:]])\n",
    "plt.show()"
   ]
  },
  {
   "cell_type": "markdown",
   "metadata": {},
   "source": [
    "<a name=\"prediction\"></a>\n",
    "## 4. Winning Probability Prediction"
   ]
  },
  {
   "cell_type": "markdown",
   "metadata": {},
   "source": [
    "<a name=\"prediction-1\"></a>\n",
    "### 4-1. Hero Selection Influence\n",
    "As we all know, different heroes might restrict or complement to each other. Thus, we might think the hero selection is crucial to the final result.\n",
    "\n",
    "We tried three models and use cross-validation to choose the best parameters. We used the accuracy and the ROC curves to check whether our models gave good predictions."
   ]
  },
  {
   "cell_type": "markdown",
   "metadata": {},
   "source": [
    "### 1) Get training & testing dataset\n",
    "We used GridSearchCV in sklearn to choose the best parameters. \n",
    "\n",
    "It will automatically do the k-fold cross validation (k is determined by the user's input) and tell you the best parameters combination. \n",
    "\n",
    "The evaluation score could be average precision, recall rate etc. Detailed documentation can be found here:\n",
    "\n",
    "    http://scikit-learn.org/stable/modules/generated/sklearn.model_selection.GridSearchCV.html\n",
    "\n",
    "In order to draw the ROC curves, we trained the models with the best parameters using the training data and drew the ROC curves on the testing data. We used train_test_split function in sklearn. \n",
    "\n",
    "It can split arrays or matrices into random train and test subsets. Detailed documentation could be found here:\n",
    "\n",
    "    http://scikit-learn.org/stable/modules/generated/sklearn.model_selection.train_test_split.html\n"
   ]
  },
  {
   "cell_type": "code",
   "execution_count": 54,
   "metadata": {
    "collapsed": true
   },
   "outputs": [],
   "source": [
    "# get the X, y from the dataset as well as the tranining & testing dataset\n",
    "X = clean_data1.drop('radiant_win',axis = 1).values\n",
    "y = clean_data1['radiant_win']\n",
    "X_train, X_test, y_train, y_test = train_test_split(X, y, test_size = 0.3)"
   ]
  },
  {
   "cell_type": "markdown",
   "metadata": {},
   "source": [
    "### 2) Model training\n",
    "\n",
    "#### Logistic Regression\n",
    "The advantage of LR is it can be trained very fast. However, it's only suitable for the data which can be calssified by a single straight line.\n",
    "\n",
    "We tried different regularization values, and fit the final model using the best parameters. \n",
    "\n",
    "We also tried the accuracy in extreme predicted cases. We filtered the data which are predicted to have a winning probability higher than 0.55 (or lower than 0.45). In these cases, the accuracy goes up (from 0.56 to around 0.60). \n",
    "\n",
    "We want to conclude that, in the normal cases (the predicted winning probabilities are between 0.45 and 0.55), our model does a little better than a random guess. However, when the initial batter formation leads to an extreme prediction, our model does better than it does in the normal cases."
   ]
  },
  {
   "cell_type": "code",
   "execution_count": 15,
   "metadata": {},
   "outputs": [
    {
     "name": "stdout",
     "output_type": "stream",
     "text": [
      "0.561369172636296\n",
      "{'C': 0.05}\n",
      "LogisticRegression(C=0.05, class_weight=None, dual=False, fit_intercept=True,\n",
      "          intercept_scaling=1, max_iter=100, multi_class='ovr', n_jobs=1,\n",
      "          penalty='l2', random_state=None, solver='liblinear', tol=0.0001,\n",
      "          verbose=0, warm_start=False)\n"
     ]
    }
   ],
   "source": [
    "# define the parameter values that should be searched\n",
    "param_grid = {\"C\": [0.05, 0.1, 0.5, 1]}\n",
    "lr = LogisticRegression()\n",
    "\n",
    "# instantiate the grid\n",
    "# AP summarizes a precision-recall curve as the weighted mean of precisions achieved at each threshold\n",
    "# with the increase in recall from the previous threshold used as the weight\n",
    "grid = GridSearchCV(lr, param_grid, cv = 5, scoring = 'average_precision')\n",
    "\n",
    "# fit the grid with data\n",
    "grid.fit(X, y)\n",
    "\n",
    "# examine the best model\n",
    "print(grid.best_score_)\n",
    "print(grid.best_params_) \n",
    "print(grid.best_estimator_)"
   ]
  },
  {
   "cell_type": "code",
   "execution_count": 55,
   "metadata": {
    "collapsed": true
   },
   "outputs": [],
   "source": [
    "# fit the model with the best params\n",
    "# get the ROC params\n",
    "lr = LogisticRegression(C = 0.05)\n",
    "pred_y = lr.fit(X_train, y_train).predict_proba(X_test)[:, 1]\n",
    "fpr_lr, tpr_lr, _ = roc_curve(y_test, pred_y)"
   ]
  },
  {
   "cell_type": "code",
   "execution_count": 56,
   "metadata": {},
   "outputs": [
    {
     "name": "stdout",
     "output_type": "stream",
     "text": [
      "Real win rate for estimated win rate < 0.45:  0.445\n",
      "Real win rate for estimated win rate > 0.55:  0.58\n"
     ]
    }
   ],
   "source": [
    "# use the threshold to find the extreme initial battle formation situation\n",
    "threshold = 0.45\n",
    "print('Real win rate for estimated win rate < 0.45: ', round(np.mean(y_test[pred_y < threshold]),3))\n",
    "print('Real win rate for estimated win rate > 0.55: ',round(np.mean(y_test[pred_y > (1-threshold)]),3))"
   ]
  },
  {
   "cell_type": "markdown",
   "metadata": {},
   "source": [
    "#### Random Forests\n",
    "RF can give a more stable and accurate prediction in some cases because it aggregates many decision trees' outputs. RF can also capture the relationship among different features' pairs.\n",
    "\n",
    "The three most important features in determined the outputs are **dragon_knight (id:9)**, **bristleback (id:99)**, and **bounty_hunter (id:62)**.\n",
    "<img src=\"https://github.com/yunluhuang516/pictures/raw/master/project/important.png\" style=\"width: 600px;\"/>"
   ]
  },
  {
   "cell_type": "code",
   "execution_count": 19,
   "metadata": {},
   "outputs": [
    {
     "name": "stdout",
     "output_type": "stream",
     "text": [
      "0.5502314495567728\n",
      "{'max_depth': 10, 'max_features': 20, 'n_estimators': 40}\n",
      "RandomForestClassifier(bootstrap=True, class_weight=None, criterion='gini',\n",
      "            max_depth=10, max_features=20, max_leaf_nodes=None,\n",
      "            min_impurity_decrease=0.0, min_impurity_split=None,\n",
      "            min_samples_leaf=1, min_samples_split=2,\n",
      "            min_weight_fraction_leaf=0.0, n_estimators=40, n_jobs=1,\n",
      "            oob_score=False, random_state=10, verbose=0, warm_start=False)\n"
     ]
    }
   ],
   "source": [
    "# define the parameter values that should be searched\n",
    "param_grid = {\"max_depth\": [None, 10, 15, 20], \n",
    "              \"n_estimators\":[10, 20, 40],\n",
    "               \"max_features\": [10, 20, 40]}\n",
    "rf = RandomForestClassifier(random_state=10)\n",
    "\n",
    "# instantiate the grid\n",
    "grid = GridSearchCV(rf, param_grid, cv = 5, scoring = 'average_precision')\n",
    "\n",
    "# fit the grid with data\n",
    "grid.fit(X, y)\n",
    "\n",
    "# examine the best model\n",
    "print(grid.best_score_)\n",
    "print(grid.best_params_)  \n",
    "print(grid.best_estimator_)"
   ]
  },
  {
   "cell_type": "code",
   "execution_count": 57,
   "metadata": {
    "collapsed": true
   },
   "outputs": [],
   "source": [
    "# fit the model with the best params\n",
    "rf = RandomForestClassifier(max_depth = 10, max_features = 20, n_estimators = 40)\n",
    "pred_y = rf.fit(X_train, y_train).predict_proba(X_test)[:, 1]\n",
    "fpr_rf, tpr_rf, _ = roc_curve(y_test, pred_y)"
   ]
  },
  {
   "cell_type": "code",
   "execution_count": 58,
   "metadata": {},
   "outputs": [
    {
     "name": "stdout",
     "output_type": "stream",
     "text": [
      "[(0.026622091958273343, 'team0_99'), (0.018137986981071049, 'team0_9'), (0.017461576286228058, 'team1_77')]\n"
     ]
    }
   ],
   "source": [
    "# get the 3 most importantce params in the random forest\n",
    "importance = {}\n",
    "for i in range(len(clean_data1.drop('radiant_win',axis = 1).columns)):\n",
    "    importance[clean_data1.drop('radiant_win',axis = 1).columns[i]] = rf.feature_importances_[i]  \n",
    "tmp = {k:v for v,k in importance.items()}\n",
    "print(sorted(tmp.items(), reverse = True)[:3])\n",
    "# num.9 :dragon_knight\n",
    "# num.99 :bristleback\n",
    "# num.62 :bounty_hunter"
   ]
  },
  {
   "cell_type": "code",
   "execution_count": 59,
   "metadata": {},
   "outputs": [
    {
     "name": "stdout",
     "output_type": "stream",
     "text": [
      "Real win rate for estimated win rate < 0.45:  0.395\n",
      "Real win rate for estimated win rate > 0.55:  0.627\n"
     ]
    }
   ],
   "source": [
    "# use the threshold to find the extreme initial battle formation situation\n",
    "threshold = 0.45\n",
    "print('Real win rate for estimated win rate < 0.45: ', round(np.mean(y_test[pred_y < threshold]),3))\n",
    "print('Real win rate for estimated win rate > 0.55: ',round(np.mean(y_test[pred_y > (1-threshold)]),3))"
   ]
  },
  {
   "cell_type": "markdown",
   "metadata": {},
   "source": [
    "#### Naive Bayes\n",
    "NB calculated the conditional maximum probability of each features so we also tried this model. However, NB could not figure out the inner relationship within different features' paris as it assumes the features are independent to other features."
   ]
  },
  {
   "cell_type": "code",
   "execution_count": 60,
   "metadata": {
    "collapsed": true
   },
   "outputs": [],
   "source": [
    "nb = GaussianNB()\n",
    "pred_y = nb.fit(X_train, y_train).predict_proba(X_test)[:, 1]\n",
    "fpr_nb, tpr_nb, _ = roc_curve(y_test, pred_y)"
   ]
  },
  {
   "cell_type": "markdown",
   "metadata": {},
   "source": [
    "#### ROC CURVE\n",
    "As learned in the class, if the curve is similar to a straight line, it means the model performs similar to a random guess. If the curve is more close to the left-up-corner, it means the model performs more perfect.\n",
    "The codes for plotting the ROC curves are learned from here:\n",
    "\n",
    "    http://scikit-learn.org/stable/auto_examples/ensemble/plot_feature_transformation.html#sphx-glr-auto-examples-ensemble-plot-feature-transformation-py\n"
   ]
  },
  {
   "cell_type": "code",
   "execution_count": 61,
   "metadata": {},
   "outputs": [
    {
     "data": {
      "image/png": "[encoded data removed]",
      "text/plain": [
       "<matplotlib.figure.Figure at 0x20d6954e0>"
      ]
     },
     "metadata": {},
     "output_type": "display_data"
    }
   ],
   "source": [
    "# Author: scikit-learn.org\n",
    "plt.figure(1)\n",
    "plt.plot([0, 1], [0, 1], 'k--')\n",
    "plt.plot(fpr_nb, tpr_nb, label='Naive Bayes')\n",
    "plt.plot(fpr_rf, tpr_rf, label='RF')\n",
    "plt.plot(fpr_lr, tpr_lr, label='LR')\n",
    "plt.xlabel('False positive rate')\n",
    "plt.ylabel('True positive rate')\n",
    "plt.title('ROC curve')\n",
    "plt.legend(loc='best')\n",
    "plt.show()"
   ]
  },
  {
   "cell_type": "code",
   "execution_count": 62,
   "metadata": {},
   "outputs": [
    {
     "data": {
      "image/png": "[encoded data removed]",
      "text/plain": [
       "<matplotlib.figure.Figure at 0x20d695438>"
      ]
     },
     "metadata": {},
     "output_type": "display_data"
    }
   ],
   "source": [
    "# Author: scikit-learn.org\n",
    "plt.figure(2)\n",
    "plt.xlim(0.3, 0.6)\n",
    "plt.ylim(0.4, 0.7)\n",
    "plt.plot([0, 1], [0, 1], 'k--')\n",
    "plt.plot(fpr_nb, tpr_nb, label='Naive Bayes')\n",
    "plt.plot(fpr_rf, tpr_rf, label='RF')\n",
    "plt.plot(fpr_lr, tpr_lr, label='LR')\n",
    "plt.xlabel('False positive rate')\n",
    "plt.ylabel('True positive rate')\n",
    "plt.title('ROC curve (zoomed in at top left)')\n",
    "plt.legend(loc='best')\n",
    "plt.show()"
   ]
  },
  {
   "cell_type": "markdown",
   "metadata": {},
   "source": [
    "### 3) Recommandation System based on RF\n",
    "\n",
    "From our point of view, these results can work although it just looks a little bit better than a random guess! Dota2 is a fair game so we shouldn't dream to win only from selecting a better formation. However, from the result, we know the initial formation indeed has some influence of the final results!\n",
    "\n",
    "Based on our random forests model, we created a hero selection system. Given 9 heroes selected by other players, the system will calculate which hero can lead to a higher winning probability and then give 3 recommendations for the 10th player. \n",
    "\n",
    "In our example, we could see the predicted winning probabilities of choosing these three heroes are around 0.55. Higher than a tie!"
   ]
  },
  {
   "cell_type": "code",
   "execution_count": 63,
   "metadata": {
    "collapsed": true
   },
   "outputs": [],
   "source": [
    "query = \"SELECT * FROM heroes\"\n",
    "heros = pd.DataFrame(get_data_from_query(query))\n",
    "heros['name_mod'] = heros['name'].apply(lambda x: x[14:])\n",
    "heros['pic_url'] = 'http://cdn.dota2.com/apps/dota2/images/heroes/'+ heros['name_mod'] +'_hphover.png'"
   ]
  },
  {
   "cell_type": "code",
   "execution_count": 64,
   "metadata": {
    "collapsed": true
   },
   "outputs": [],
   "source": [
    "class display_info:\n",
    "    def __init__(self, heros):\n",
    "        self.heros = heros\n",
    "        \n",
    "    def printmd(self, string):\n",
    "        display(Markdown(string))\n",
    "        \n",
    "    def get_png(self, hero_id):\n",
    "        png_url = self.heros[self.heros['id'] == hero_id]['pic_url'].values[0]\n",
    "        return '![](%s?raw=true)'%png_url\n",
    "    \n",
    "    def print_recommand_func(self, hero_list1, hero_list2, recommand_heros):\n",
    "        png_list1 = [self.get_png(hero) for hero in hero_list1]\n",
    "        png_list2 = [self.get_png(hero) for hero in hero_list2]\n",
    "        png_recommand_list = [self.get_png(hero[0]) for hero in recommand_heros]\n",
    "        \n",
    "        result_struct = '### Radiant \\n\\n Hero1|Hero2|Hero3|Hero4|Hero5|\\n:-|:-|:-|:-|:-|\\n'\n",
    "        if len(hero_list1) == 4:\n",
    "            result_struct += '%s | %s | %s | %s | \\n' % (png_list1[0],png_list1[1],png_list1[2],png_list1[3])\n",
    "            result_struct += '### Dire \\n\\n Hero1|Hero2|Hero3|Hero4|Hero5|\\n:-|:-|:-|:-|:-|\\n'\n",
    "            result_struct += '%s | %s | %s | %s | %s | \\n' % (png_list2[0],png_list2[1],png_list2[2],png_list2[3],png_list2[4])\n",
    "        else:\n",
    "            result_struct += '%s | %s | %s | %s | %s | \\n' % (png_list1[0],png_list1[1],png_list1[2],png_list1[3],png_list1[4])\n",
    "            result_struct += '### Dire \\n\\n Hero1|Hero2|Hero3|Hero4|Hero5|\\n:-|:-|:-|:-|:-|\\n'\n",
    "            result_struct += '%s | %s | %s | %s | \\n' % (png_list2[0],png_list2[1],png_list2[2],png_list2[3])\n",
    "            \n",
    "        result_struct += '### Recommandation \\n\\n Hero1|Hero2|Hero3|\\n:-|:-|:-|\\n'\n",
    "        result_struct += '%s *** winning rate: %.2f ***|%s *** winning rate: %.2f ***|%s *** winning rate: %.2f ***|\\n' % \\\n",
    "                        (png_recommand_list[0],recommand_heros[0][1],\\\n",
    "                        png_recommand_list[1],recommand_heros[1][1],\\\n",
    "                        png_recommand_list[2],recommand_heros[2][1])\n",
    "        self.printmd(result_struct)"
   ]
  },
  {
   "cell_type": "code",
   "execution_count": 65,
   "metadata": {
    "collapsed": true
   },
   "outputs": [],
   "source": [
    "class recommand_func:\n",
    "    def __init__(self, model):\n",
    "        self.model = model\n",
    "    \n",
    "    def right_columns(self, num, team0):\n",
    "        if team0:\n",
    "            if num > 24:\n",
    "                if num > 115:\n",
    "                    return num - 6\n",
    "                else:\n",
    "                    return num - 2\n",
    "            else:\n",
    "                return num - 1\n",
    "        else:\n",
    "            if num > 24:\n",
    "                if num > 115:\n",
    "                    return 120 + num - 11\n",
    "                else:\n",
    "                    return 120 + num - 7\n",
    "            else:\n",
    "                return 120 + num - 6\n",
    "    \n",
    "    def build_X(self, hero_list1, hero_list2):\n",
    "        X = np.zeros(230)\n",
    "        for i in hero_list1:\n",
    "            X[self.right_columns(i,True)] = 1\n",
    "        for i in hero_list2:\n",
    "            X[self.right_columns(i,False)] = 1\n",
    "        out = []\n",
    "        out.append(X)\n",
    "        return np.array(out)\n",
    "    \n",
    "    def compute_win_rate(self, hero_list1, hero_list2):\n",
    "        if len(hero_list1) == 4:\n",
    "            add_list1 = True\n",
    "        else:\n",
    "            add_list1 = False\n",
    "        \n",
    "        hero_nums = set(hero_list1 + hero_list2)\n",
    "        ban_list = [1,25,115,116,117,118]\n",
    "        rate_dict = {}\n",
    "        \n",
    "        for i in range(120):\n",
    "            if (i+1) not in hero_nums and (i+1) not in ban_list:\n",
    "                hero_list1_final = list(hero_list1)\n",
    "                hero_list2_final = list(hero_list2)\n",
    "                if add_list1:\n",
    "                    hero_list1_final.append(i+1)\n",
    "                else:\n",
    "                    hero_list2_final.append(i+1)\n",
    "                \n",
    "                X = self.build_X(hero_list1_final, hero_list2_final)\n",
    "                pred = self.model.predict_proba(X)\n",
    "                rate_dict[i+1] = pred[0][1]\n",
    "        return rate_dict\n",
    "    \n",
    "    def recommand_hero(self, hero_list1, hero_list2):\n",
    "        rate_dict = self.compute_win_rate(hero_list1, hero_list2)\n",
    "        arr = sorted(rate_dict.items(), key=lambda x: x[1], reverse = True)\n",
    "        return arr[:3]"
   ]
  },
  {
   "cell_type": "code",
   "execution_count": 67,
   "metadata": {},
   "outputs": [
    {
     "data": {
      "text/markdown": [
       "### Radiant \n",
       "\n",
       " Hero1|Hero2|Hero3|Hero4|Hero5|\n",
       ":-|:-|:-|:-|:-|\n",
       "![](http://cdn.dota2.com/apps/dota2/images/heroes/ancient_apparition_hphover.png?raw=true) | ![](http://cdn.dota2.com/apps/dota2/images/heroes/crystal_maiden_hphover.png?raw=true) | ![](http://cdn.dota2.com/apps/dota2/images/heroes/bristleback_hphover.png?raw=true) | ![](http://cdn.dota2.com/apps/dota2/images/heroes/nevermore_hphover.png?raw=true) | \n",
       "### Dire \n",
       "\n",
       " Hero1|Hero2|Hero3|Hero4|Hero5|\n",
       ":-|:-|:-|:-|:-|\n",
       "![](http://cdn.dota2.com/apps/dota2/images/heroes/zuus_hphover.png?raw=true) | ![](http://cdn.dota2.com/apps/dota2/images/heroes/drow_ranger_hphover.png?raw=true) | ![](http://cdn.dota2.com/apps/dota2/images/heroes/enigma_hphover.png?raw=true) | ![](http://cdn.dota2.com/apps/dota2/images/heroes/techies_hphover.png?raw=true) | ![](http://cdn.dota2.com/apps/dota2/images/heroes/legion_commander_hphover.png?raw=true) | \n",
       "### Recommandation \n",
       "\n",
       " Hero1|Hero2|Hero3|\n",
       ":-|:-|:-|\n",
       "![](http://cdn.dota2.com/apps/dota2/images/heroes/slark_hphover.png?raw=true) *** winning rate: 0.59 ***|![](http://cdn.dota2.com/apps/dota2/images/heroes/shredder_hphover.png?raw=true) *** winning rate: 0.58 ***|![](http://cdn.dota2.com/apps/dota2/images/heroes/magnataur_hphover.png?raw=true) *** winning rate: 0.57 ***|\n"
      ],
      "text/plain": [
       "<IPython.core.display.Markdown object>"
      ]
     },
     "metadata": {},
     "output_type": "display_data"
    }
   ],
   "source": [
    "# create the initial battle formation sample\n",
    "list1 = [68,5,99,11]\n",
    "list2 = [22,6,33,105,104]\n",
    "\n",
    "# do the recommendation\n",
    "rfc = recommand_func(rf)\n",
    "rcmd = rfc.recommand_hero(list1,list2)\n",
    "diinfo = display_info(heros)\n",
    "diinfo.print_recommand_func(list1,list2,rcmd)"
   ]
  },
  {
   "cell_type": "markdown",
   "metadata": {},
   "source": [
    "<a name=\"prediction-2\"></a>\n",
    "### 4-2. Real-time Precition"
   ]
  },
  {
   "cell_type": "markdown",
   "metadata": {},
   "source": [
    "Here we extracted X, y from **data2** (the dataset that contains the information in every minute of all the matches), X for all features including **gold**, **exp**, **level**, **kill**, **hero_selection**, and y for the final result. Then we splited them into train set and test set."
   ]
  },
  {
   "cell_type": "code",
   "execution_count": 11,
   "metadata": {
    "collapsed": true
   },
   "outputs": [],
   "source": [
    "X = data2.drop('radiant_win', axis = 1).values\n",
    "y = data2['radiant_win'].values.astype(int)"
   ]
  },
  {
   "cell_type": "code",
   "execution_count": 15,
   "metadata": {
    "collapsed": true
   },
   "outputs": [],
   "source": [
    "X_train, X_test, y_train, y_test = train_test_split(X, y, test_size = 0.3)"
   ]
  },
  {
   "cell_type": "markdown",
   "metadata": {},
   "source": [
    "### Logisitic Regression"
   ]
  },
  {
   "cell_type": "markdown",
   "metadata": {},
   "source": [
    "Firstly, we trid to use **logistic regression** to see the performance of **winning rate prediction**."
   ]
  },
  {
   "cell_type": "code",
   "execution_count": 23,
   "metadata": {},
   "outputs": [
    {
     "name": "stdout",
     "output_type": "stream",
     "text": [
      "0.843140337039\n",
      "{'C': 1}\n",
      "LogisticRegression(C=1, class_weight=None, dual=False, fit_intercept=True,\n",
      "          intercept_scaling=1, max_iter=100, multi_class='ovr', n_jobs=1,\n",
      "          penalty='l2', random_state=None, solver='liblinear', tol=0.0001,\n",
      "          verbose=0, warm_start=False)\n"
     ]
    }
   ],
   "source": [
    "# define the parameter values that should be searched\n",
    "param_grid = {\"C\": [0.05, 0.1, 0.5, 1]}\n",
    "lr = LogisticRegression()\n",
    "\n",
    "# instantiate the grid\n",
    "# AP summarizes a precision-recall curve as the weighted mean of precisions achieved at each threshold\n",
    "# with the increase in recall from the previous threshold used as the weight\n",
    "grid = GridSearchCV(lr, param_grid, cv = 5, scoring = 'average_precision')\n",
    "\n",
    "# fit the grid with data\n",
    "grid.fit(X, y)\n",
    "\n",
    "# examine the best model\n",
    "print(grid.best_score_)\n",
    "print(grid.best_params_) \n",
    "print(grid.best_estimator_)"
   ]
  },
  {
   "cell_type": "code",
   "execution_count": 24,
   "metadata": {
    "collapsed": true
   },
   "outputs": [],
   "source": [
    "# fit the model with the best params\n",
    "# get the ROC params\n",
    "lr = LogisticRegression(C = 0.05)\n",
    "pred_y = lr.fit(X_train, y_train).predict_proba(X_test)[:, 1]\n",
    "fpr_lr, tpr_lr, _ = roc_curve(y_test, pred_y)"
   ]
  },
  {
   "cell_type": "markdown",
   "metadata": {},
   "source": [
    "### Naive Bayes"
   ]
  },
  {
   "cell_type": "markdown",
   "metadata": {},
   "source": [
    "Next we tried to use **Naive Bayes** model to see the performance of **winning rate prediction**."
   ]
  },
  {
   "cell_type": "code",
   "execution_count": 25,
   "metadata": {
    "collapsed": true
   },
   "outputs": [],
   "source": [
    "nb = GaussianNB()\n",
    "pred_y = nb.fit(X_train, y_train).predict_proba(X_test)[:, 1]\n",
    "fpr_nb, tpr_nb, _ = roc_curve(y_test, pred_y)"
   ]
  },
  {
   "cell_type": "markdown",
   "metadata": {},
   "source": [
    "### Random Forest"
   ]
  },
  {
   "cell_type": "markdown",
   "metadata": {},
   "source": [
    " Here we tried to use **Random Forest** model to see the performance of **winning rate prediction**."
   ]
  },
  {
   "cell_type": "code",
   "execution_count": 17,
   "metadata": {},
   "outputs": [
    {
     "name": "stdout",
     "output_type": "stream",
     "text": [
      "0.99441861137\n",
      "{'max_depth': None, 'max_features': 10, 'n_estimators': 40}\n",
      "RandomForestClassifier(bootstrap=True, class_weight=None, criterion='gini',\n",
      "            max_depth=None, max_features=10, max_leaf_nodes=None,\n",
      "            min_impurity_decrease=0.0, min_impurity_split=None,\n",
      "            min_samples_leaf=1, min_samples_split=2,\n",
      "            min_weight_fraction_leaf=0.0, n_estimators=40, n_jobs=1,\n",
      "            oob_score=False, random_state=10, verbose=0, warm_start=False)\n"
     ]
    }
   ],
   "source": [
    "# define the parameter values that should be searched\n",
    "param_grid = {\"max_depth\": [None, 10, 15, 20], \n",
    "              \"n_estimators\":[10, 20, 40],\n",
    "               \"max_features\": [10, 20, 40]}\n",
    "rf = RandomForestClassifier(random_state=10)\n",
    "\n",
    "# instantiate the grid\n",
    "grid = GridSearchCV(rf, param_grid, cv = 5, scoring = 'average_precision')\n",
    "\n",
    "# fit the grid with data\n",
    "grid.fit(X_train, y_train)\n",
    "\n",
    "# examine the best model\n",
    "print(grid.best_score_)\n",
    "print(grid.best_params_)  \n",
    "print(grid.best_estimator_)"
   ]
  },
  {
   "cell_type": "code",
   "execution_count": 19,
   "metadata": {
    "collapsed": true
   },
   "outputs": [],
   "source": [
    "# fit the model with the best params\n",
    "rf = RandomForestClassifier(n_estimators = 40, max_depth = None, max_features = 10)\n",
    "pred_y = rf.fit(X_train, y_train).predict_proba(X_test)[:, 1]\n",
    "fpr_rf, tpr_rf, _ = roc_curve(y_test, pred_y)"
   ]
  },
  {
   "cell_type": "markdown",
   "metadata": {},
   "source": [
    "### ROC Curve"
   ]
  },
  {
   "cell_type": "markdown",
   "metadata": {},
   "source": [
    "Here we drew the ROC curve to compare the performance of three models."
   ]
  },
  {
   "cell_type": "code",
   "execution_count": 26,
   "metadata": {},
   "outputs": [
    {
     "data": {
      "image/png": "[encoded data removed]",
      "text/plain": [
       "<matplotlib.figure.Figure at 0x1113eab70>"
      ]
     },
     "metadata": {},
     "output_type": "display_data"
    }
   ],
   "source": [
    "plt.figure(1)\n",
    "plt.plot([0, 1], [0, 1], 'k--')\n",
    "plt.plot(fpr_nb, tpr_nb, label='Naive Bayes')\n",
    "plt.plot(fpr_rf, tpr_rf, label='RF')\n",
    "plt.plot(fpr_lr, tpr_lr, label='LR')\n",
    "plt.xlabel('False positive rate')\n",
    "plt.ylabel('True positive rate')\n",
    "plt.title('ROC curve')\n",
    "plt.legend(loc='best')\n",
    "plt.show()"
   ]
  },
  {
   "cell_type": "markdown",
   "metadata": {},
   "source": [
    "Comparing these models, we found the **score** and **accuracy** of **random forest** is highest among the three. \n",
    "\n",
    "Also, from the discussion above, we believed that random forest is very suitable for solving this problem. \n",
    "\n",
    "So next, we were trying to use this model to analyse one latest match: **PSG.LGD VS TEAM.LIQUID** and see how it performs."
   ]
  },
  {
   "cell_type": "markdown",
   "metadata": {},
   "source": [
    "### One match analysis"
   ]
  },
  {
   "cell_type": "markdown",
   "metadata": {},
   "source": [
    "First we collected data with **opendota api** and parsed it into the form we expect."
   ]
  },
  {
   "cell_type": "code",
   "execution_count": 27,
   "metadata": {
    "collapsed": true
   },
   "outputs": [],
   "source": [
    "# final match of EPICENTER XL\n",
    "# PSG.LGD VS TEAM.LIQUID\n",
    "match_data_opendota = requests.get('https://api.opendota.com/api/matches/3870838763').json()"
   ]
  },
  {
   "cell_type": "code",
   "execution_count": 28,
   "metadata": {
    "collapsed": true
   },
   "outputs": [],
   "source": [
    "column_names = list(data2.drop('radiant_win', axis = 1).columns)"
   ]
  },
  {
   "cell_type": "code",
   "execution_count": 29,
   "metadata": {
    "collapsed": true
   },
   "outputs": [],
   "source": [
    "team_hero = column_names[41:]"
   ]
  },
  {
   "cell_type": "code",
   "execution_count": 30,
   "metadata": {
    "collapsed": true
   },
   "outputs": [],
   "source": [
    "out = []\n",
    "minutes = len(match_data_opendota['players'][0]['gold_t'])\n",
    "for i in range(minutes):\n",
    "    o = {}\n",
    "    o['time'] = i\n",
    "    \n",
    "    t = i * 60\n",
    "    for j in range(10):\n",
    "        \n",
    "        \n",
    "        o['gold_t_'+str(j)] = match_data_opendota['players'][j]['gold_t'][i]\n",
    "        o['lh_t_'+str(j)] = match_data_opendota['players'][j]['lh_t'][i]\n",
    "        o['xp_t_'+str(j)] = match_data_opendota['players'][j]['xp_t'][i]\n",
    "        \n",
    "        kill_log = match_data_opendota['players'][j]['kills_log']\n",
    "        kill_count = 0\n",
    "        for k in kill_log:\n",
    "            if k['time'] <= t:\n",
    "                kill_count += 1\n",
    "        o['kills_count_'+str(j)] = kill_count\n",
    "\n",
    "    for hero in team_hero:\n",
    "        team = int(hero[4])\n",
    "        hero_num = int(hero[6:])\n",
    "        \n",
    "        for j in range(10):\n",
    "            player_hero = match_data_opendota['players'][j]['hero_id']\n",
    "            if player_hero == hero_num:\n",
    "                if (team == 0 and j < 5) or (team == 1 and j >= 5):\n",
    "                    o[hero] = 1\n",
    "                else:\n",
    "                    o[hero] = 0\n",
    "            else:\n",
    "                o[hero] = 0\n",
    "                \n",
    "    out.append(o)"
   ]
  },
  {
   "cell_type": "code",
   "execution_count": 31,
   "metadata": {
    "collapsed": true
   },
   "outputs": [],
   "source": [
    "df_t  = pd.DataFrame(out)[column_names]"
   ]
  },
  {
   "cell_type": "code",
   "execution_count": 32,
   "metadata": {},
   "outputs": [
    {
     "data": {
      "text/html": [
       "<div>\n",
       "<style>\n",
       "    .dataframe thead tr:only-child th {\n",
       "        text-align: right;\n",
       "    }\n",
       "\n",
       "    .dataframe thead th {\n",
       "        text-align: left;\n",
       "    }\n",
       "\n",
       "    .dataframe tbody tr th {\n",
       "        vertical-align: top;\n",
       "    }\n",
       "</style>\n",
       "<table border=\"1\" class=\"dataframe\">\n",
       "  <thead>\n",
       "    <tr style=\"text-align: right;\">\n",
       "      <th></th>\n",
       "      <th>gold_t_0</th>\n",
       "      <th>gold_t_1</th>\n",
       "      <th>gold_t_2</th>\n",
       "      <th>gold_t_3</th>\n",
       "      <th>gold_t_4</th>\n",
       "      <th>gold_t_5</th>\n",
       "      <th>gold_t_6</th>\n",
       "      <th>gold_t_7</th>\n",
       "      <th>gold_t_8</th>\n",
       "      <th>gold_t_9</th>\n",
       "      <th>...</th>\n",
       "      <th>team1_90</th>\n",
       "      <th>team1_91</th>\n",
       "      <th>team1_92</th>\n",
       "      <th>team1_93</th>\n",
       "      <th>team1_94</th>\n",
       "      <th>team1_95</th>\n",
       "      <th>team1_96</th>\n",
       "      <th>team1_97</th>\n",
       "      <th>team1_98</th>\n",
       "      <th>team1_99</th>\n",
       "    </tr>\n",
       "  </thead>\n",
       "  <tbody>\n",
       "    <tr>\n",
       "      <th>0</th>\n",
       "      <td>0</td>\n",
       "      <td>0</td>\n",
       "      <td>0</td>\n",
       "      <td>0</td>\n",
       "      <td>0</td>\n",
       "      <td>0</td>\n",
       "      <td>51</td>\n",
       "      <td>0</td>\n",
       "      <td>295</td>\n",
       "      <td>0</td>\n",
       "      <td>...</td>\n",
       "      <td>0</td>\n",
       "      <td>0</td>\n",
       "      <td>0</td>\n",
       "      <td>0</td>\n",
       "      <td>0</td>\n",
       "      <td>0</td>\n",
       "      <td>0</td>\n",
       "      <td>0</td>\n",
       "      <td>0</td>\n",
       "      <td>0</td>\n",
       "    </tr>\n",
       "    <tr>\n",
       "      <th>1</th>\n",
       "      <td>212</td>\n",
       "      <td>170</td>\n",
       "      <td>221</td>\n",
       "      <td>170</td>\n",
       "      <td>256</td>\n",
       "      <td>209</td>\n",
       "      <td>260</td>\n",
       "      <td>228</td>\n",
       "      <td>504</td>\n",
       "      <td>170</td>\n",
       "      <td>...</td>\n",
       "      <td>0</td>\n",
       "      <td>0</td>\n",
       "      <td>0</td>\n",
       "      <td>0</td>\n",
       "      <td>0</td>\n",
       "      <td>0</td>\n",
       "      <td>0</td>\n",
       "      <td>0</td>\n",
       "      <td>0</td>\n",
       "      <td>0</td>\n",
       "    </tr>\n",
       "    <tr>\n",
       "      <th>2</th>\n",
       "      <td>421</td>\n",
       "      <td>417</td>\n",
       "      <td>312</td>\n",
       "      <td>261</td>\n",
       "      <td>585</td>\n",
       "      <td>300</td>\n",
       "      <td>563</td>\n",
       "      <td>487</td>\n",
       "      <td>645</td>\n",
       "      <td>495</td>\n",
       "      <td>...</td>\n",
       "      <td>0</td>\n",
       "      <td>0</td>\n",
       "      <td>0</td>\n",
       "      <td>0</td>\n",
       "      <td>0</td>\n",
       "      <td>0</td>\n",
       "      <td>0</td>\n",
       "      <td>0</td>\n",
       "      <td>0</td>\n",
       "      <td>0</td>\n",
       "    </tr>\n",
       "    <tr>\n",
       "      <th>3</th>\n",
       "      <td>877</td>\n",
       "      <td>681</td>\n",
       "      <td>457</td>\n",
       "      <td>420</td>\n",
       "      <td>872</td>\n",
       "      <td>514</td>\n",
       "      <td>654</td>\n",
       "      <td>841</td>\n",
       "      <td>805</td>\n",
       "      <td>872</td>\n",
       "      <td>...</td>\n",
       "      <td>0</td>\n",
       "      <td>0</td>\n",
       "      <td>0</td>\n",
       "      <td>0</td>\n",
       "      <td>0</td>\n",
       "      <td>0</td>\n",
       "      <td>0</td>\n",
       "      <td>0</td>\n",
       "      <td>0</td>\n",
       "      <td>0</td>\n",
       "    </tr>\n",
       "    <tr>\n",
       "      <th>4</th>\n",
       "      <td>1162</td>\n",
       "      <td>992</td>\n",
       "      <td>548</td>\n",
       "      <td>511</td>\n",
       "      <td>1207</td>\n",
       "      <td>794</td>\n",
       "      <td>947</td>\n",
       "      <td>1101</td>\n",
       "      <td>1099</td>\n",
       "      <td>1143</td>\n",
       "      <td>...</td>\n",
       "      <td>0</td>\n",
       "      <td>0</td>\n",
       "      <td>0</td>\n",
       "      <td>0</td>\n",
       "      <td>0</td>\n",
       "      <td>0</td>\n",
       "      <td>0</td>\n",
       "      <td>0</td>\n",
       "      <td>0</td>\n",
       "      <td>0</td>\n",
       "    </tr>\n",
       "  </tbody>\n",
       "</table>\n",
       "<p>5 rows × 262 columns</p>\n",
       "</div>"
      ],
      "text/plain": [
       "   gold_t_0  gold_t_1  gold_t_2  gold_t_3  gold_t_4  gold_t_5  gold_t_6  \\\n",
       "0         0         0         0         0         0         0        51   \n",
       "1       212       170       221       170       256       209       260   \n",
       "2       421       417       312       261       585       300       563   \n",
       "3       877       681       457       420       872       514       654   \n",
       "4      1162       992       548       511      1207       794       947   \n",
       "\n",
       "   gold_t_7  gold_t_8  gold_t_9    ...     team1_90  team1_91  team1_92  \\\n",
       "0         0       295         0    ...            0         0         0   \n",
       "1       228       504       170    ...            0         0         0   \n",
       "2       487       645       495    ...            0         0         0   \n",
       "3       841       805       872    ...            0         0         0   \n",
       "4      1101      1099      1143    ...            0         0         0   \n",
       "\n",
       "   team1_93  team1_94  team1_95  team1_96  team1_97  team1_98  team1_99  \n",
       "0         0         0         0         0         0         0         0  \n",
       "1         0         0         0         0         0         0         0  \n",
       "2         0         0         0         0         0         0         0  \n",
       "3         0         0         0         0         0         0         0  \n",
       "4         0         0         0         0         0         0         0  \n",
       "\n",
       "[5 rows x 262 columns]"
      ]
     },
     "execution_count": 32,
     "metadata": {},
     "output_type": "execute_result"
    }
   ],
   "source": [
    "df_t.head()"
   ]
  },
  {
   "cell_type": "markdown",
   "metadata": {},
   "source": [
    "Here we extracted the information of **gold**, **exp**, **level**, **kill** of each player at every minute as well as **hero_selection** for the entire match, set them as features of **X**, predicted the winning rate for **team 0** at every minute of this match by **X** and plotted it."
   ]
  },
  {
   "cell_type": "code",
   "execution_count": 33,
   "metadata": {
    "collapsed": true
   },
   "outputs": [],
   "source": [
    "X = df_t.values"
   ]
  },
  {
   "cell_type": "code",
   "execution_count": 34,
   "metadata": {
    "collapsed": true
   },
   "outputs": [],
   "source": [
    "pred_y = rf.predict_proba(X)[:, 1]"
   ]
  },
  {
   "cell_type": "code",
   "execution_count": 36,
   "metadata": {},
   "outputs": [
    {
     "data": {
      "image/png": "[encoded data removed]",
      "text/plain": [
       "<matplotlib.figure.Figure at 0x11273c518>"
      ]
     },
     "metadata": {},
     "output_type": "display_data"
    }
   ],
   "source": [
    "plt.plot(pred_y, color='red')\n",
    "plt.xlabel('Minute')\n",
    "plt.ylabel('Team 0 Winning Rate')\n",
    "plt.show()"
   ]
  },
  {
   "cell_type": "markdown",
   "metadata": {},
   "source": [
    "From the plot we see winning rate for team 0 changed drasticly during this match. This was a very exciting game. Even at last minute of this match you did not know which team would win the victory.\n",
    "\n",
    "For the final result, **PSG.LGD (team 0)** win this match, so the final prediction from our model is still **correct** in this situation."
   ]
  },
  {
   "cell_type": "markdown",
   "metadata": {},
   "source": [
    "<a name=\"conclusion\"></a>\n",
    "## 5. Conclusion"
   ]
  },
  {
   "cell_type": "markdown",
   "metadata": {},
   "source": [
    "**In this project, we collected data from more than 49,000 matches and mainly build two models based on it using random forest.**\n",
    "\n",
    "**For the first model, we tried to predict winning rate based on the hero selection of each team. We hope this model could give DOTAers some indications on which team's hero selection is better when they are watching games and help them make decision on hero selection when they are playing.**\n",
    "\n",
    "**For the second model, we tried to predict winning rate based on data of each minute during one match. We hope this could help DOTAers to get a better indication of which team has a better chance to win when they are watching it.**\n",
    "\n",
    "**Though hero selection is important during a DOTA2 match, the key for winning a game is still the skill and performance. We hope these models could help DOTAers better enjoy in both watching and playing DOTA2.**"
   ]
  },
  {
   "cell_type": "markdown",
   "metadata": {},
   "source": [
    "<a name=\"ref\"></a>\n",
    "## Refenreces\n",
    "\n",
    "1. https://www.opendota.com/api-keys\n",
    "\n",
    "2. http://scikit-learn.org/stable/modules/generated/sklearn.model_selection.GridSearchCV.html\n",
    "\n",
    "3. http://scikit-learn.org/stable/modules/generated/sklearn.model_selection.train_test_split.html\n",
    "\n",
    "4. http://scikit-learn.org/stable/auto_examples/ensemble/plot_feature_transformation.html#sphx-glr-auto-examples-ensemble-plot-feature-transformation-py"
   ]
  }
 ],
 "metadata": {
  "kernelspec": {
   "display_name": "Python 3",
   "language": "python",
   "name": "python3"
  },
  "language_info": {
   "codemirror_mode": {
    "name": "ipython",
    "version": 3
   },
   "file_extension": ".py",
   "mimetype": "text/x-python",
   "name": "python",
   "nbconvert_exporter": "python",
   "pygments_lexer": "ipython3",
   "version": "3.6.3"
  }
 },
 "nbformat": 4,
 "nbformat_minor": 2
}
